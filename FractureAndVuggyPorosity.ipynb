{
  "nbformat": 4,
  "nbformat_minor": 0,
  "metadata": {
    "colab": {
      "name": "FractureAndVuggyPorosity",
      "provenance": [],
      "mount_file_id": "1OAAIErAEzfNPhl4PT8x4PNT1t5Npgs2R",
      "authorship_tag": "ABX9TyM5zW20SiAE8nuNgFtYOBoE",
      "include_colab_link": true
    },
    "kernelspec": {
      "name": "python3",
      "display_name": "Python 3"
    }
  },
  "cells": [
    {
      "cell_type": "markdown",
      "metadata": {
        "id": "view-in-github",
        "colab_type": "text"
      },
      "source": [
        "<a href=\"https://colab.research.google.com/github/lsaif/Fracture-and-Vuggy-Porosity/blob/main/FractureAndVuggyPorosity.ipynb\" target=\"_parent\"><img src=\"https://colab.research.google.com/assets/colab-badge.svg\" alt=\"Open In Colab\"/></a>"
      ]
    },
    {
      "cell_type": "code",
      "metadata": {
        "id": "_e6xHEeU9jB0"
      },
      "source": [
        "!pip install lasio"
      ],
      "execution_count": null,
      "outputs": []
    },
    {
      "cell_type": "code",
      "metadata": {
        "colab": {
          "base_uri": "https://localhost:8080/"
        },
        "id": "J8ykiG1T9lKN",
        "outputId": "f7c64d70-60da-418f-a38d-7405ca878885"
      },
      "source": [
        "from google.colab import files\r\n",
        "from google.colab import drive\r\n",
        "drive.mount('/content/drive')\r\n",
        "\r\n",
        "import pandas as pd\r\n",
        "import numpy as np\r\n",
        "import sys\r\n",
        "import matplotlib.pyplot as plt\r\n",
        "import os\r\n",
        "import lasio\r\n",
        "\r\n",
        "np.set_printoptions(threshold=sys.maxsize)\r\n",
        "pd.set_option('display.max_rows', None)\r\n",
        "pd.set_option('display.max_columns', None)\r\n",
        "pd.set_option('display.width', None)\r\n",
        "\r\n",
        "source_dir = '/content/drive/MyDrive/FractureVuggyPorosity/data'"
      ],
      "execution_count": 11,
      "outputs": [
        {
          "output_type": "stream",
          "text": [
            "Drive already mounted at /content/drive; to attempt to forcibly remount, call drive.mount(\"/content/drive\", force_remount=True).\n"
          ],
          "name": "stdout"
        }
      ]
    },
    {
      "cell_type": "code",
      "metadata": {
        "id": "16ZgPbA19qhO"
      },
      "source": [
        "def LoadData(filename):\r\n",
        "  l = lasio.read(f\"/{source_dir}/{filename}\")\r\n",
        "  data_well = l.df()\r\n",
        "  data_well['WELL'] = l.well.WELL.value\r\n",
        "  return data_well"
      ],
      "execution_count": 12,
      "outputs": []
    },
    {
      "cell_type": "code",
      "metadata": {
        "id": "cVUoG3dm-cMZ"
      },
      "source": [
        "data_raw = pd.DataFrame()\r\n",
        "for f in sorted(os.listdir(source_dir)):\r\n",
        "  data_well = LoadData(f)\r\n",
        "  data_raw = data_raw.append(data_well)\r\n",
        "data_raw = data_raw.dropna()\r\n",
        "data = data_raw"
      ],
      "execution_count": 49,
      "outputs": []
    },
    {
      "cell_type": "code",
      "metadata": {
        "id": "nx91qbmd-nP3"
      },
      "source": [
        "data.head(5)"
      ],
      "execution_count": null,
      "outputs": []
    },
    {
      "cell_type": "code",
      "metadata": {
        "id": "aE9q94tLDWMr"
      },
      "source": [
        "phi_block = 0.03\r\n",
        "threshold = 0.01\r\n",
        "data['error'] = 50\r\n",
        "data['PHI2'] = (data['PHIE']-phi_block)/(1-phi_block)\r\n",
        "data['PHIF1'] = 1.5*data['RMF']/data['PROX']\r\n",
        "data['PHIV1']= 0.1\r\n",
        "\r\n",
        "while ((data['error'] >= threshold).sum()):\r\n",
        "  data['PHIV2'] = data['PHI2'] - data['PHIF2']\r\n",
        "  data['term1'] = 3*data['RMF']*(1-data['PHIV1'])\r\n",
        "  data['term2'] = 2*data['PROX']*(1+2*data['PHIV1'])\r\n",
        "  data['term3'] = 3*data['RMF']*data['PHIV1']\r\n",
        "  data['PHIF2'] = data['term1']/(data['term2']-data['term3'])\r\n",
        "  data['error'] = np.abs(data['PHIF2']-data['PHIF1'])\r\n",
        "  data['PHIF1'] = data['PHIF2']\r\n",
        "  data['PHIV1'] = data['PHIV2']"
      ],
      "execution_count": null,
      "outputs": []
    },
    {
      "cell_type": "code",
      "metadata": {
        "id": "lFL6Ez-PMDcw"
      },
      "source": [
        "data.drop(['term1', 'term2','term3','PHIF1','PHIV1'], axis=1, inplace=True)\r\n",
        "data.head(20)\r\n",
        "data.to_csv('result.csv')"
      ],
      "execution_count": 103,
      "outputs": []
    }
  ]
}